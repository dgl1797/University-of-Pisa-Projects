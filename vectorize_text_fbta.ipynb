{
  "cells": [
    {
      "cell_type": "code",
      "execution_count": 1,
      "metadata": {
        "id": "VmeIM51dfIB8"
      },
      "outputs": [],
      "source": [
        "import sys\n",
        "sys.path.append(\"..\")\n",
        "import json\n",
        "import numpy as np\n",
        "import pandas as pd\n",
        "import torch\n",
        "\n",
        "from qdrant_client import QdrantClient\n",
        "from qdrant_client.http import models\n",
        "from pymongo import MongoClient\n",
        "\n",
        "from tqdm.notebook import tqdm\n",
        "\n",
        "from server.config import QDRANT_HOST, QDRANT_PORT, QDRANT_API_KEY, OPENAI_API_KEY, DATA, COLLECTION_NAME\n"
      ]
    },
    {
      "cell_type": "markdown",
      "metadata": {
        "id": "B9ck5LKufICB"
      },
      "source": [
        "## Connect to Qdrant and Mongo and create collection\n"
      ]
    },
    {
      "cell_type": "code",
      "execution_count": 2,
      "metadata": {
        "id": "t9uqt4XwfICD"
      },
      "outputs": [],
      "source": [
        "\n",
        "# mongo_client = MongoClient('localhost', 27017)\n",
        "# db = mongo_client.scientific_articles\n",
        "\n",
        "client = QdrantClient(host=QDRANT_HOST, port=QDRANT_PORT, api_key=QDRANT_API_KEY)\n",
        "# client.recreate_collection(\n",
        "#     collection_name=COLLECTION_NAME,\n",
        "#     vectors_config=models.VectorParams(size=384, distance=models.Distance.COSINE),\n",
        "# )\n"
      ]
    },
    {
      "cell_type": "markdown",
      "metadata": {
        "id": "Wuz0ThsPfICE"
      },
      "source": [
        "## Load Data into DataFrame\n"
      ]
    },
    {
      "cell_type": "code",
      "execution_count": null,
      "metadata": {
        "colab": {
          "base_uri": "https://localhost:8080/",
          "height": 49,
          "referenced_widgets": [
            "b6d2d0ebc62c456bbce58ae2f0517b15",
            "0b4699d6054f4edbae06932967782042",
            "0f2900cc8f6346f58b3acbd7ef1d8a30",
            "530034850c984d6e97e65831da824924",
            "1f91c781a8a04ebf87e66585b2c22720",
            "0c268346068a481db539290a4fbd429e",
            "a862a82171524218898c439dfe8ce1ed",
            "0892c68788804488a9170e247149bc47",
            "09fdfb21a17b4aa1b258c22182792c51",
            "e5eb092f78a247f8912facc30902dbf0",
            "a70690419ed74ed8b0c06aac0e46a59a"
          ]
        },
        "id": "h9cM-dURfICE",
        "outputId": "0a6f5b27-3577-436d-bb24-fa810019074a"
      },
      "outputs": [],
      "source": [
        "import requests\n",
        "\n",
        "HOST = \"http://144.24.201.133:5000\"\n",
        "rows = []\n",
        "\n",
        "for i in range(10):\n",
        "    articles_json = requests.get(f\"{HOST}/allPapers?skip={i*1000}\").json()\n",
        "\n",
        "    for paper in articles_json:\n",
        "        rows.append(\n",
        "            (\n",
        "                paper[\"title\"],\n",
        "                paper[\"link\"],\n",
        "                paper[\"abstract\"],\n",
        "                paper[\"summary\"]\n",
        "            )\n",
        "        )"
      ]
    },
    {
      "cell_type": "markdown",
      "metadata": {
        "id": "z3yF4RcOfICF"
      },
      "source": [
        "# Instanciate Model"
      ]
    },
    {
      "cell_type": "code",
      "execution_count": 3,
      "metadata": {
        "id": "UWJpITuifICG"
      },
      "outputs": [],
      "source": [
        "from transformers import AutoModel, AutoTokenizer\n",
        "\n",
        "# model = SentenceTransformer(\n",
        "#     \"msmarco-MiniLM-L-6-v3\",\n",
        "#     device=\"cuda\"\n",
        "#     if torch.cuda.is_available()\n",
        "#     else \"mps\"\n",
        "#     if torch.backends.mps.is_available()\n",
        "#     else \"cpu\",\n",
        "# )\n",
        "\n",
        "tokenizer = AutoTokenizer.from_pretrained('sentence-transformers/msmarco-MiniLM-L-6-v3')\n",
        "model = AutoModel.from_pretrained('sentence-transformers/msmarco-MiniLM-L-6-v3')"
      ]
    },
    {
      "cell_type": "markdown",
      "metadata": {
        "id": "-RxLtXaifICH"
      },
      "source": [
        "## Vectorize docs\n"
      ]
    },
    {
      "cell_type": "code",
      "execution_count": 15,
      "metadata": {
        "id": "g3gjsdXtfICH"
      },
      "outputs": [],
      "source": [
        "#Mean Pooling - Take attention mask into account for correct averaging\n",
        "def mean_pooling(model_output, attention_mask):\n",
        "    token_embeddings = model_output[0] #First element of model_output contains all token embeddings\n",
        "    input_mask_expanded = attention_mask.unsqueeze(-1).expand(token_embeddings.size()).float()\n",
        "    return torch.sum(token_embeddings * input_mask_expanded, 1) / torch.clamp(input_mask_expanded.sum(1), min=1e-9)\n"
      ]
    },
    {
      "cell_type": "code",
      "execution_count": 16,
      "metadata": {
        "colab": {
          "base_uri": "https://localhost:8080/"
        },
        "id": "yctz9iZkpuU9",
        "outputId": "8ceb0ed5-cc6f-4e79-bd72-c5647dce721e"
      },
      "outputs": [
        {
          "name": "stdout",
          "output_type": "stream",
          "text": [
            "998\n"
          ]
        }
      ],
      "source": [
        "nsplit = 100\n",
        "batch_load_step = int(df.shape[0]/nsplit)\n",
        "print(df.shape[0])\n",
        "\n",
        "# for index in list(range(nsplit)):\n",
        "#     print(batch_load_step*(index+1))"
      ]
    },
    {
      "cell_type": "code",
      "execution_count": null,
      "metadata": {
        "id": "34lW0OV2fICI"
      },
      "outputs": [],
      "source": [
        "titles = [row[0] for row in rows[0:100]]\n",
        "bodies = [row[3] for row in rows[0:100]]\n",
        "summaries = [row[4] for row in rows[0:100]]\n",
        "\n",
        "print(len(bodies))\n",
        "print(len(titles))\n",
        "print(len(summaries))\n",
        "# Tokenize sentences\n",
        "encoded_input = tokenizer(bodies, padding=True, truncation=True, return_tensors='pt').to(\"cuda\")\n",
        "\n",
        "# Compute token embeddings\n",
        "with torch.no_grad():\n",
        "    model_output = model(**encoded_input)\n",
        "\n",
        "# Perform pooling. In this case, max pooling.\n",
        "sentence_embeddings = mean_pooling(model_output, encoded_input['attention_mask'])\n",
        "\n",
        "print(\"Sentence embeddings:\")\n",
        "print(sentence_embeddings)\n",
        "\n",
        "# vectors = []\n",
        "\n",
        "# for doc in tqdm(df[\"body\"].to_list()):\n",
        "#     vectors.append(model.encode(doc))"
      ]
    },
    {
      "cell_type": "code",
      "execution_count": 25,
      "metadata": {
        "colab": {
          "base_uri": "https://localhost:8080/"
        },
        "id": "w3fBmHo4fICJ",
        "outputId": "566afd2c-3e84-4f2e-d86b-3463900d6f7b"
      },
      "outputs": [
        {
          "name": "stdout",
          "output_type": "stream",
          "text": [
            "9\n"
          ]
        }
      ],
      "source": [
        "batch_load_step = 100\n",
        "nsplit = int(df.shape[0]/batch_load_step)\n"
      ]
    },
    {
      "cell_type": "code",
      "execution_count": 15,
      "metadata": {
        "colab": {
          "base_uri": "https://localhost:8080/"
        },
        "id": "esSF9st-fICJ",
        "outputId": "c50623f5-026d-4c63-ab72-88120cb90588"
      },
      "outputs": [
        {
          "data": {
            "text/plain": [
              "CollectionsResponse(collections=[CollectionDescription(name='papers'), CollectionDescription(name='papers_complete')])"
            ]
          },
          "execution_count": 15,
          "metadata": {},
          "output_type": "execute_result"
        }
      ],
      "source": [
        "client.get_collections()"
      ]
    },
    {
      "cell_type": "code",
      "execution_count": 13,
      "metadata": {
        "colab": {
          "base_uri": "https://localhost:8080/"
        },
        "id": "9mnH98GkfICJ",
        "outputId": "075e6270-9588-4594-e7c3-4ce5be74768f"
      },
      "outputs": [
        {
          "data": {
            "text/plain": [
              "True"
            ]
          },
          "execution_count": 13,
          "metadata": {},
          "output_type": "execute_result"
        }
      ],
      "source": [
        "client.delete_collection(collection_name=\"papers\")"
      ]
    },
    {
      "cell_type": "code",
      "execution_count": 14,
      "metadata": {
        "colab": {
          "base_uri": "https://localhost:8080/"
        },
        "id": "5FaxYyzDfICK",
        "outputId": "20059a75-715b-4ec2-fd3f-47d61d260d71"
      },
      "outputs": [
        {
          "data": {
            "text/plain": [
              "True"
            ]
          },
          "execution_count": 14,
          "metadata": {},
          "output_type": "execute_result"
        }
      ],
      "source": [
        "client.recreate_collection(\n",
        "    collection_name=\"papers\",\n",
        "    vectors_config=models.VectorParams(size=384, distance=models.Distance.COSINE),\n",
        ")"
      ]
    },
    {
      "cell_type": "markdown",
      "metadata": {
        "id": "7lBq6qa4fICK"
      },
      "source": [
        "## Load data on Qdrant search engine"
      ]
    },
    {
      "cell_type": "code",
      "execution_count": null,
      "metadata": {
        "id": "-bca7mdkfICK"
      },
      "outputs": [],
      "source": [
        "for index in list(range(nsplit)):\n",
        "    for _, row in df.iloc[list(range(batch_load_step*index, batch_load_step*(index+1)))].iterrows():\n",
        "        print(row['title'])"
      ]
    },
    {
      "cell_type": "code",
      "execution_count": null,
      "metadata": {
        "id": "WBZ--w2pfICL"
      },
      "outputs": [],
      "source": [
        "for vec in vectors:\n",
        "    print((list(vec)))"
      ]
    },
    {
      "cell_type": "code",
      "execution_count": null,
      "metadata": {
        "id": "ACFehjKTfICL"
      },
      "outputs": [],
      "source": [
        "for index in tqdm(list(range(nsplit))):\n",
        "    client.upsert(\n",
        "        collection_name=COLLECTION_NAME,\n",
        "        points=models.Batch(\n",
        "            ids=list(range(batch_load_step*index, batch_load_step*(index+1))),\n",
        "            payloads=[\n",
        "                {\n",
        "                    \"body\": row[\"body\"],\n",
        "                    \"abstract\": row[\"abstract\"],\n",
        "                    \"title\": row[\"title\"],\n",
        "                    \"link\": row[\"link\"],\n",
        "                }\n",
        "                for _, row in df.iloc[list(range(batch_load_step*index, batch_load_step*(index+1)))].iterrows()\n",
        "            ],\n",
        "            vectors= [vec.tolist() for vec in vectors[batch_load_step*index:batch_load_step*(index+1)]],\n",
        "        ),\n",
        "    )"
      ]
    },
    {
      "cell_type": "code",
      "execution_count": null,
      "metadata": {
        "id": "cYFH_VwufICL",
        "outputId": "3cac68da-e76b-4937-caea-dbb0cb0c8d78"
      },
      "outputs": [
        {
          "name": "stdout",
          "output_type": "stream",
          "text": [
            "Stored 'query' (str)\n"
          ]
        }
      ],
      "source": [
        "query = \"how is artificial intelligence used in medical applications?\"\n",
        "%store query"
      ]
    },
    {
      "cell_type": "code",
      "execution_count": null,
      "metadata": {
        "id": "FjYWg4nFfICL",
        "outputId": "ba570717-0f7d-47e2-ff51-d229c4c3a9f2"
      },
      "outputs": [
        {
          "name": "stdout",
          "output_type": "stream",
          "text": [
            "Stored 'similar_docs' (list)\n"
          ]
        }
      ],
      "source": [
        "similar_docs = client.search(\n",
        "        collection_name=\"papers\",\n",
        "        query_vector=model.encode(query),\n",
        "        limit=6,\n",
        "        offset=0,\n",
        "        append_payload=True,\n",
        "    )\n",
        "\n",
        "%store similar_docs"
      ]
    },
    {
      "cell_type": "code",
      "execution_count": null,
      "metadata": {
        "id": "RuHOzp-ufICM",
        "outputId": "450c4e4d-2b3d-44e5-8062-c4faa20ccede"
      },
      "outputs": [
        {
          "name": "stdout",
          "output_type": "stream",
          "text": [
            "[0.6329287] Research article\n",
            "Physicians’ attitudes and knowledge toward artificial intelligence in medicine: Benefits and drawbacks\n",
            "[0.5812633] Knowledge, attitudes and practices towards artificial intelligence (AI) among radiologists in Saudi Arabia\n",
            "[0.5647462] Patient views on the implementation of artificial intelligence in radiotherapy\n",
            "[0.55050915] Case of the Season: Artificial Intelligence in Clinical Practice—Large Vessel Occlusion Triage in Stroke Imaging\n",
            "[0.5367967] Applications of Artificial Intelligence in the Radiology Roundtrip: Process Streamlining, Workflow Optimization, and Beyond\n",
            "[0.5233896] Research article\n",
            "An architectural approach to modeling artificial general intelligence\n"
          ]
        }
      ],
      "source": [
        "for doc in similar_docs:\n",
        "    print(\"[\" + str(doc.score) + '] ' + doc.payload['title'])"
      ]
    },
    {
      "cell_type": "code",
      "execution_count": null,
      "metadata": {
        "id": "pFJjgfh9fICM"
      },
      "outputs": [],
      "source": []
    }
  ],
  "metadata": {
    "accelerator": "GPU",
    "colab": {
      "gpuType": "T4",
      "provenance": []
    },
    "kernelspec": {
      "display_name": "Python 3",
      "name": "python3"
    },
    "language_info": {
      "codemirror_mode": {
        "name": "ipython",
        "version": 3
      },
      "file_extension": ".py",
      "mimetype": "text/x-python",
      "name": "python",
      "nbconvert_exporter": "python",
      "pygments_lexer": "ipython3",
      "version": "3.10.9"
    },
    "orig_nbformat": 4,
    "vscode": {
      "interpreter": {
        "hash": "7f7d7ce7694bb4f4c294d506e5b6dc7957106f5332d820f0757e3d8cd7b1bbf8"
      }
    },
    "widgets": {
      "application/vnd.jupyter.widget-state+json": {
        "0892c68788804488a9170e247149bc47": {
          "model_module": "@jupyter-widgets/base",
          "model_module_version": "1.2.0",
          "model_name": "LayoutModel",
          "state": {
            "_model_module": "@jupyter-widgets/base",
            "_model_module_version": "1.2.0",
            "_model_name": "LayoutModel",
            "_view_count": null,
            "_view_module": "@jupyter-widgets/base",
            "_view_module_version": "1.2.0",
            "_view_name": "LayoutView",
            "align_content": null,
            "align_items": null,
            "align_self": null,
            "border": null,
            "bottom": null,
            "display": null,
            "flex": null,
            "flex_flow": null,
            "grid_area": null,
            "grid_auto_columns": null,
            "grid_auto_flow": null,
            "grid_auto_rows": null,
            "grid_column": null,
            "grid_gap": null,
            "grid_row": null,
            "grid_template_areas": null,
            "grid_template_columns": null,
            "grid_template_rows": null,
            "height": null,
            "justify_content": null,
            "justify_items": null,
            "left": null,
            "margin": null,
            "max_height": null,
            "max_width": null,
            "min_height": null,
            "min_width": null,
            "object_fit": null,
            "object_position": null,
            "order": null,
            "overflow": null,
            "overflow_x": null,
            "overflow_y": null,
            "padding": null,
            "right": null,
            "top": null,
            "visibility": null,
            "width": null
          }
        },
        "09fdfb21a17b4aa1b258c22182792c51": {
          "model_module": "@jupyter-widgets/controls",
          "model_module_version": "1.5.0",
          "model_name": "ProgressStyleModel",
          "state": {
            "_model_module": "@jupyter-widgets/controls",
            "_model_module_version": "1.5.0",
            "_model_name": "ProgressStyleModel",
            "_view_count": null,
            "_view_module": "@jupyter-widgets/base",
            "_view_module_version": "1.2.0",
            "_view_name": "StyleView",
            "bar_color": null,
            "description_width": ""
          }
        },
        "0b4699d6054f4edbae06932967782042": {
          "model_module": "@jupyter-widgets/controls",
          "model_module_version": "1.5.0",
          "model_name": "HTMLModel",
          "state": {
            "_dom_classes": [],
            "_model_module": "@jupyter-widgets/controls",
            "_model_module_version": "1.5.0",
            "_model_name": "HTMLModel",
            "_view_count": null,
            "_view_module": "@jupyter-widgets/controls",
            "_view_module_version": "1.5.0",
            "_view_name": "HTMLView",
            "description": "",
            "description_tooltip": null,
            "layout": "IPY_MODEL_0c268346068a481db539290a4fbd429e",
            "placeholder": "​",
            "style": "IPY_MODEL_a862a82171524218898c439dfe8ce1ed",
            "value": "100%"
          }
        },
        "0c268346068a481db539290a4fbd429e": {
          "model_module": "@jupyter-widgets/base",
          "model_module_version": "1.2.0",
          "model_name": "LayoutModel",
          "state": {
            "_model_module": "@jupyter-widgets/base",
            "_model_module_version": "1.2.0",
            "_model_name": "LayoutModel",
            "_view_count": null,
            "_view_module": "@jupyter-widgets/base",
            "_view_module_version": "1.2.0",
            "_view_name": "LayoutView",
            "align_content": null,
            "align_items": null,
            "align_self": null,
            "border": null,
            "bottom": null,
            "display": null,
            "flex": null,
            "flex_flow": null,
            "grid_area": null,
            "grid_auto_columns": null,
            "grid_auto_flow": null,
            "grid_auto_rows": null,
            "grid_column": null,
            "grid_gap": null,
            "grid_row": null,
            "grid_template_areas": null,
            "grid_template_columns": null,
            "grid_template_rows": null,
            "height": null,
            "justify_content": null,
            "justify_items": null,
            "left": null,
            "margin": null,
            "max_height": null,
            "max_width": null,
            "min_height": null,
            "min_width": null,
            "object_fit": null,
            "object_position": null,
            "order": null,
            "overflow": null,
            "overflow_x": null,
            "overflow_y": null,
            "padding": null,
            "right": null,
            "top": null,
            "visibility": null,
            "width": null
          }
        },
        "0f2900cc8f6346f58b3acbd7ef1d8a30": {
          "model_module": "@jupyter-widgets/controls",
          "model_module_version": "1.5.0",
          "model_name": "FloatProgressModel",
          "state": {
            "_dom_classes": [],
            "_model_module": "@jupyter-widgets/controls",
            "_model_module_version": "1.5.0",
            "_model_name": "FloatProgressModel",
            "_view_count": null,
            "_view_module": "@jupyter-widgets/controls",
            "_view_module_version": "1.5.0",
            "_view_name": "ProgressView",
            "bar_style": "success",
            "description": "",
            "description_tooltip": null,
            "layout": "IPY_MODEL_0892c68788804488a9170e247149bc47",
            "max": 1000,
            "min": 0,
            "orientation": "horizontal",
            "style": "IPY_MODEL_09fdfb21a17b4aa1b258c22182792c51",
            "value": 1000
          }
        },
        "1f91c781a8a04ebf87e66585b2c22720": {
          "model_module": "@jupyter-widgets/base",
          "model_module_version": "1.2.0",
          "model_name": "LayoutModel",
          "state": {
            "_model_module": "@jupyter-widgets/base",
            "_model_module_version": "1.2.0",
            "_model_name": "LayoutModel",
            "_view_count": null,
            "_view_module": "@jupyter-widgets/base",
            "_view_module_version": "1.2.0",
            "_view_name": "LayoutView",
            "align_content": null,
            "align_items": null,
            "align_self": null,
            "border": null,
            "bottom": null,
            "display": null,
            "flex": null,
            "flex_flow": null,
            "grid_area": null,
            "grid_auto_columns": null,
            "grid_auto_flow": null,
            "grid_auto_rows": null,
            "grid_column": null,
            "grid_gap": null,
            "grid_row": null,
            "grid_template_areas": null,
            "grid_template_columns": null,
            "grid_template_rows": null,
            "height": null,
            "justify_content": null,
            "justify_items": null,
            "left": null,
            "margin": null,
            "max_height": null,
            "max_width": null,
            "min_height": null,
            "min_width": null,
            "object_fit": null,
            "object_position": null,
            "order": null,
            "overflow": null,
            "overflow_x": null,
            "overflow_y": null,
            "padding": null,
            "right": null,
            "top": null,
            "visibility": null,
            "width": null
          }
        },
        "530034850c984d6e97e65831da824924": {
          "model_module": "@jupyter-widgets/controls",
          "model_module_version": "1.5.0",
          "model_name": "HTMLModel",
          "state": {
            "_dom_classes": [],
            "_model_module": "@jupyter-widgets/controls",
            "_model_module_version": "1.5.0",
            "_model_name": "HTMLModel",
            "_view_count": null,
            "_view_module": "@jupyter-widgets/controls",
            "_view_module_version": "1.5.0",
            "_view_name": "HTMLView",
            "description": "",
            "description_tooltip": null,
            "layout": "IPY_MODEL_e5eb092f78a247f8912facc30902dbf0",
            "placeholder": "​",
            "style": "IPY_MODEL_a70690419ed74ed8b0c06aac0e46a59a",
            "value": " 1000/1000 [00:00&lt;00:00, 46666.64it/s]"
          }
        },
        "a70690419ed74ed8b0c06aac0e46a59a": {
          "model_module": "@jupyter-widgets/controls",
          "model_module_version": "1.5.0",
          "model_name": "DescriptionStyleModel",
          "state": {
            "_model_module": "@jupyter-widgets/controls",
            "_model_module_version": "1.5.0",
            "_model_name": "DescriptionStyleModel",
            "_view_count": null,
            "_view_module": "@jupyter-widgets/base",
            "_view_module_version": "1.2.0",
            "_view_name": "StyleView",
            "description_width": ""
          }
        },
        "a862a82171524218898c439dfe8ce1ed": {
          "model_module": "@jupyter-widgets/controls",
          "model_module_version": "1.5.0",
          "model_name": "DescriptionStyleModel",
          "state": {
            "_model_module": "@jupyter-widgets/controls",
            "_model_module_version": "1.5.0",
            "_model_name": "DescriptionStyleModel",
            "_view_count": null,
            "_view_module": "@jupyter-widgets/base",
            "_view_module_version": "1.2.0",
            "_view_name": "StyleView",
            "description_width": ""
          }
        },
        "b6d2d0ebc62c456bbce58ae2f0517b15": {
          "model_module": "@jupyter-widgets/controls",
          "model_module_version": "1.5.0",
          "model_name": "HBoxModel",
          "state": {
            "_dom_classes": [],
            "_model_module": "@jupyter-widgets/controls",
            "_model_module_version": "1.5.0",
            "_model_name": "HBoxModel",
            "_view_count": null,
            "_view_module": "@jupyter-widgets/controls",
            "_view_module_version": "1.5.0",
            "_view_name": "HBoxView",
            "box_style": "",
            "children": [
              "IPY_MODEL_0b4699d6054f4edbae06932967782042",
              "IPY_MODEL_0f2900cc8f6346f58b3acbd7ef1d8a30",
              "IPY_MODEL_530034850c984d6e97e65831da824924"
            ],
            "layout": "IPY_MODEL_1f91c781a8a04ebf87e66585b2c22720"
          }
        },
        "e5eb092f78a247f8912facc30902dbf0": {
          "model_module": "@jupyter-widgets/base",
          "model_module_version": "1.2.0",
          "model_name": "LayoutModel",
          "state": {
            "_model_module": "@jupyter-widgets/base",
            "_model_module_version": "1.2.0",
            "_model_name": "LayoutModel",
            "_view_count": null,
            "_view_module": "@jupyter-widgets/base",
            "_view_module_version": "1.2.0",
            "_view_name": "LayoutView",
            "align_content": null,
            "align_items": null,
            "align_self": null,
            "border": null,
            "bottom": null,
            "display": null,
            "flex": null,
            "flex_flow": null,
            "grid_area": null,
            "grid_auto_columns": null,
            "grid_auto_flow": null,
            "grid_auto_rows": null,
            "grid_column": null,
            "grid_gap": null,
            "grid_row": null,
            "grid_template_areas": null,
            "grid_template_columns": null,
            "grid_template_rows": null,
            "height": null,
            "justify_content": null,
            "justify_items": null,
            "left": null,
            "margin": null,
            "max_height": null,
            "max_width": null,
            "min_height": null,
            "min_width": null,
            "object_fit": null,
            "object_position": null,
            "order": null,
            "overflow": null,
            "overflow_x": null,
            "overflow_y": null,
            "padding": null,
            "right": null,
            "top": null,
            "visibility": null,
            "width": null
          }
        }
      }
    }
  },
  "nbformat": 4,
  "nbformat_minor": 0
}
