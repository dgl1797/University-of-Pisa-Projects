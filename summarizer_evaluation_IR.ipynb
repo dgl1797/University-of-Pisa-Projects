{
 "cells": [
  {
   "cell_type": "markdown",
   "metadata": {},
   "source": [
    "# Metrics\n",
    "\n",
    "If a summary captures well the meaning of a body text, then if we use that summary in an information retrieval index to index the documents, we expect to see query results (rankings) similar to the ones in which we rank by whole body text."
   ]
  },
  {
   "cell_type": "markdown",
   "metadata": {},
   "source": [
    "## Normalized Spearman Footrule Distance ##\n",
    "We can use the Spearman Footrule Distance: we perform a query Q and obtain the ranking Kb of documents indexed by body text, and Ks of documents indexed by summary. We compute the distance of Ks from Kb. "
   ]
  },
  {
   "cell_type": "code",
   "execution_count": 1,
   "metadata": {},
   "outputs": [],
   "source": [
    "def spearman_distance_normalized(vec1, vec2):\n",
    "    distance = 0\n",
    "    max_distance = len(vec1) + 1\n",
    "    max_total_distance = max_distance*len(vec1)\n",
    "    for index1, element1 in enumerate(vec1):\n",
    "        for index2, element2 in enumerate(vec2):\n",
    "            if(element1 == element2):\n",
    "                distance += abs(index1-index2)\n",
    "                break\n",
    "            if(index2 == (len(vec2)-1)):\n",
    "                distance += max_distance\n",
    "                \n",
    "    return 1 - distance/max_total_distance"
   ]
  },
  {
   "cell_type": "markdown",
   "metadata": {},
   "source": [
    "Keep in mind that distance computation is not related to position in the rank as shown in the example"
   ]
  },
  {
   "cell_type": "code",
   "execution_count": 2,
   "metadata": {},
   "outputs": [
    {
     "name": "stdout",
     "output_type": "stream",
     "text": [
      "distance: 0.9\n",
      "distance: 0.9\n"
     ]
    }
   ],
   "source": [
    "# first two elements in list change\n",
    "vec1 = [\"a3\", \"a2\", \"a4\", \"a1\"]\n",
    "vec2 = [\"a2\", \"a3\", \"a4\", \"a1\"]\n",
    "\n",
    "print(f\"distance: {spearman_distance_normalized(vec1, vec2)}\")\n",
    "\n",
    "# last two elements in list change\n",
    "vec1 = [\"a2\", \"a1\", \"a3\", \"a4\"]\n",
    "vec2 = [\"a2\", \"a1\", \"a4\", \"a3\"]\n",
    "\n",
    "print(f\"distance: {spearman_distance_normalized(vec1, vec2)}\")"
   ]
  },
  {
   "cell_type": "markdown",
   "metadata": {},
   "source": [
    "## RBO ##\n",
    "Measures the similarity between two ranks by overlap"
   ]
  },
  {
   "cell_type": "code",
   "execution_count": 2,
   "metadata": {},
   "outputs": [
    {
     "data": {
      "text/plain": [
       "0.8541666666666666"
      ]
     },
     "execution_count": 2,
     "metadata": {},
     "output_type": "execute_result"
    }
   ],
   "source": [
    "import rbo\n",
    "\n",
    "vec1 = [\"a2\", \"a1\", \"a3\", \"a4\"]\n",
    "vec2 = [\"a2\", \"a1\", \"a4\", \"a6\"]\n",
    "\n",
    "rbo.RankingSimilarity(vec1, vec2).rbo()"
   ]
  }
 ],
 "metadata": {
  "kernelspec": {
   "display_name": "base",
   "language": "python",
   "name": "python3"
  },
  "language_info": {
   "codemirror_mode": {
    "name": "ipython",
    "version": 3
   },
   "file_extension": ".py",
   "mimetype": "text/x-python",
   "name": "python",
   "nbconvert_exporter": "python",
   "pygments_lexer": "ipython3",
   "version": "3.10.9"
  },
  "orig_nbformat": 4
 },
 "nbformat": 4,
 "nbformat_minor": 2
}
