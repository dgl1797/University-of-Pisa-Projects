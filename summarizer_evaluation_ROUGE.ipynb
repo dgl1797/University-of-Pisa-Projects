{
 "cells": [
  {
   "cell_type": "markdown",
   "metadata": {},
   "source": [
    "## Load Data ##\n"
   ]
  },
  {
   "cell_type": "code",
   "execution_count": 1,
   "metadata": {},
   "outputs": [
    {
     "name": "stdout",
     "output_type": "stream",
     "text": [
      "100\n"
     ]
    }
   ],
   "source": [
    "import json\n",
    "\n",
    "file = open(\"paper_splits_output.json\", \"r\")\n",
    "paper_splits = json.loads(file.read())\n",
    "print(len(paper_splits))"
   ]
  },
  {
   "cell_type": "code",
   "execution_count": 2,
   "metadata": {},
   "outputs": [],
   "source": [
    "from rouge import Rouge\n",
    "\n",
    "ROUGE = Rouge()\n",
    "\n",
    "bodies = [row[\"summary\"] for row in paper_splits]\n",
    "summaries = [row[\"reference_summary\"] for row in paper_splits]\n",
    "    "
   ]
  },
  {
   "cell_type": "code",
   "execution_count": 3,
   "metadata": {},
   "outputs": [],
   "source": [
    "total_f = ROUGE.get_scores(bodies, summaries, avg=True)"
   ]
  },
  {
   "cell_type": "code",
   "execution_count": 4,
   "metadata": {},
   "outputs": [
    {
     "data": {
      "text/plain": [
       "{'rouge-1': {'r': 0.24629612014031652,\n",
       "  'p': 0.4260282205619973,\n",
       "  'f': 0.30857748056750856},\n",
       " 'rouge-2': {'r': 0.07775990145946134,\n",
       "  'p': 0.1576336986977056,\n",
       "  'f': 0.10291191752084773},\n",
       " 'rouge-l': {'r': 0.22541726392848777,\n",
       "  'p': 0.39119661887222534,\n",
       "  'f': 0.2827498900483966}}"
      ]
     },
     "execution_count": 4,
     "metadata": {},
     "output_type": "execute_result"
    }
   ],
   "source": [
    "total_f"
   ]
  },
  {
   "cell_type": "code",
   "execution_count": null,
   "metadata": {},
   "outputs": [],
   "source": []
  }
 ],
 "metadata": {
  "kernelspec": {
   "display_name": "base",
   "language": "python",
   "name": "python3"
  },
  "language_info": {
   "codemirror_mode": {
    "name": "ipython",
    "version": 3
   },
   "file_extension": ".py",
   "mimetype": "text/x-python",
   "name": "python",
   "nbconvert_exporter": "python",
   "pygments_lexer": "ipython3",
   "version": "3.10.9"
  },
  "orig_nbformat": 4
 },
 "nbformat": 4,
 "nbformat_minor": 2
}
