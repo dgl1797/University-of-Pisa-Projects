{
 "cells": [
  {
   "cell_type": "code",
   "execution_count": 1,
   "metadata": {},
   "outputs": [],
   "source": [
    "import sys\n",
    "sys.path.append(\"..\")\n",
    "import pandas as pd\n",
    "\n",
    "from qdrant_client import QdrantClient\n",
    "from qdrant_client.models import PointStruct\n",
    "from qdrant_client.http import models\n",
    "from pymongo import MongoClient\n",
    "\n",
    "from tqdm.notebook import tqdm\n",
    "\n",
    "from server.config import QDRANT_HOST, QDRANT_PORT, QDRANT_API_KEY, OPENAI_API_KEY, DATA, COLLECTION_NAME\n"
   ]
  },
  {
   "cell_type": "markdown",
   "metadata": {},
   "source": [
    "## Connect to Qdrant and Mongo and create collection\n"
   ]
  },
  {
   "cell_type": "code",
   "execution_count": 5,
   "metadata": {},
   "outputs": [
    {
     "data": {
      "text/plain": [
       "True"
      ]
     },
     "execution_count": 5,
     "metadata": {},
     "output_type": "execute_result"
    }
   ],
   "source": [
    "client = QdrantClient(host=QDRANT_HOST, port=QDRANT_PORT, api_key=QDRANT_API_KEY)\n",
    "\n",
    "# w2v_papers: documents indexed by title and abstract\n",
    "# client.delete_collection(\n",
    "#     collection_name=\"st_finetuned_papers\"\n",
    "# )\n",
    "\n",
    "\n",
    "client.recreate_collection(\n",
    "    collection_name=\"st_finetuned_papers_summaries\",\n",
    "    vectors_config=models.VectorParams(size=768, distance=models.Distance.COSINE),\n",
    ")\n"
   ]
  },
  {
   "cell_type": "markdown",
   "metadata": {},
   "source": [
    "## Load Data into DataFrame\n"
   ]
  },
  {
   "cell_type": "code",
   "execution_count": 6,
   "metadata": {},
   "outputs": [
    {
     "name": "stderr",
     "output_type": "stream",
     "text": [
      "  0%|          | 0/10 [00:00<?, ?it/s]"
     ]
    },
    {
     "name": "stderr",
     "output_type": "stream",
     "text": [
      "100%|██████████| 10/10 [02:22<00:00, 14.24s/it]\n"
     ]
    }
   ],
   "source": [
    "import requests\n",
    "from tqdm import tqdm\n",
    "\n",
    "HOST = \"http://144.24.201.133:5000\"\n",
    "rows = []\n",
    "\n",
    "for i in tqdm(range(10)):\n",
    "    articles_json = requests.get(f\"{HOST}/allPapers?skip={i*1000}\").json()\n",
    "\n",
    "    for paper in articles_json:\n",
    "        if(len(paper[\"abstract\"])>20):\n",
    "            rows.append(\n",
    "                (\n",
    "                    paper[\"title\"],\n",
    "                    paper[\"link\"],\n",
    "                    paper[\"abstract\"],\n",
    "                    paper[\"summary\"]\n",
    "                )\n",
    "            )"
   ]
  },
  {
   "cell_type": "code",
   "execution_count": 7,
   "metadata": {},
   "outputs": [],
   "source": [
    "from sentence_transformers import SentenceTransformer\n",
    "\n",
    "model = SentenceTransformer('sentence-transformers/allenai-specter').cuda()"
   ]
  },
  {
   "cell_type": "code",
   "execution_count": null,
   "metadata": {},
   "outputs": [
    {
     "name": "stderr",
     "output_type": "stream",
     "text": [
      "  6%|▌         | 584/9348 [03:35<37:03,  3.94it/s]  "
     ]
    },
    {
     "name": "stderr",
     "output_type": "stream",
     "text": [
      "  8%|▊         | 707/9348 [05:01<1:23:30,  1.72it/s]"
     ]
    }
   ],
   "source": [
    "paper_embeddings = []\n",
    "\n",
    "for paper in tqdm(rows):\n",
    "    paper_embeddings.append(model.encode(paper[3]))"
   ]
  },
  {
   "cell_type": "code",
   "execution_count": null,
   "metadata": {},
   "outputs": [
    {
     "name": "stderr",
     "output_type": "stream",
     "text": [
      "9348it [21:11,  7.35it/s]\n"
     ]
    }
   ],
   "source": [
    "\n",
    "for index, point_paper in tqdm(enumerate(paper_embeddings)):\n",
    "    # try:\n",
    "        client.upsert(\n",
    "            collection_name=\"st_finetuned_papers_summaries\",\n",
    "            points=[    \n",
    "                PointStruct(\n",
    "                    id=index,\n",
    "                    vector=point_paper.tolist(),\n",
    "                    payload={\"link\": rows[index][1], \"title\": rows[index][0]}\n",
    "                )\n",
    "            ]\n",
    "        )\n",
    "   "
   ]
  },
  {
   "cell_type": "code",
   "execution_count": null,
   "metadata": {},
   "outputs": [],
   "source": [
    "collection_info = client.get_collection(collection_name='st_finetuned_paper_summaries')\n",
    "\n",
    "print(f\"current vector count = \", collection_info.vectors_count)"
   ]
  },
  {
   "cell_type": "code",
   "execution_count": 24,
   "metadata": {},
   "outputs": [],
   "source": [
    "query = \"iot wearable devices for respiratory diseases\""
   ]
  },
  {
   "cell_type": "code",
   "execution_count": 25,
   "metadata": {},
   "outputs": [],
   "source": [
    "similar_docs = client.search(\n",
    "        collection_name=\"st_finetuned_papers_abstract\",\n",
    "        query_vector=model.encode(query),\n",
    "        limit=6,\n",
    "        offset=0,\n",
    "        append_payload=True,\n",
    "    )"
   ]
  },
  {
   "cell_type": "code",
   "execution_count": 1,
   "metadata": {},
   "outputs": [
    {
     "ename": "NameError",
     "evalue": "name 'similar_docs' is not defined",
     "output_type": "error",
     "traceback": [
      "\u001b[1;31m---------------------------------------------------------------------------\u001b[0m",
      "\u001b[1;31mNameError\u001b[0m                                 Traceback (most recent call last)",
      "Cell \u001b[1;32mIn[1], line 1\u001b[0m\n\u001b[1;32m----> 1\u001b[0m \u001b[39mfor\u001b[39;00m doc \u001b[39min\u001b[39;00m similar_docs:\n\u001b[0;32m      2\u001b[0m     \u001b[39mprint\u001b[39m(doc\u001b[39m.\u001b[39mpayload)\n",
      "\u001b[1;31mNameError\u001b[0m: name 'similar_docs' is not defined"
     ]
    }
   ],
   "source": [
    "for doc in similar_docs:\n",
    "    print(doc.payload)"
   ]
  },
  {
   "cell_type": "code",
   "execution_count": null,
   "metadata": {},
   "outputs": [],
   "source": []
  }
 ],
 "metadata": {
  "kernelspec": {
   "display_name": "base",
   "language": "python",
   "name": "python3"
  },
  "language_info": {
   "codemirror_mode": {
    "name": "ipython",
    "version": 3
   },
   "file_extension": ".py",
   "mimetype": "text/x-python",
   "name": "python",
   "nbconvert_exporter": "python",
   "pygments_lexer": "ipython3",
   "version": "3.10.9"
  },
  "orig_nbformat": 4
 },
 "nbformat": 4,
 "nbformat_minor": 2
}
